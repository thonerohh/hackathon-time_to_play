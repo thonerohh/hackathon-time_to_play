{
 "cells": [
  {
   "cell_type": "code",
   "execution_count": 1,
   "id": "883f6ed7",
   "metadata": {},
   "outputs": [],
   "source": [
    "import numpy as np\n",
    "import os\n",
    "import PIL\n",
    "import PIL.Image\n",
    "import tensorflow as tf\n",
    "from tensorflow.keras import datasets, layers, models\n",
    "from tensorflow.keras.preprocessing import image\n",
    "from tensorflow.keras.models import Model\n",
    "from glob import glob\n",
    "import json"
   ]
  },
  {
   "cell_type": "code",
   "execution_count": 2,
   "id": "0fcd6310",
   "metadata": {},
   "outputs": [],
   "source": [
    "img_height = 300\n",
    "img_width = 300\n",
    "\n",
    "#this is just because of issues with Cyrillic/Unicode characters ion folder names\n",
    "detail_names_list = ['CS120.01.413', 'CS120.07.442', 'CS150.01.427-01', 'SU160.00.404', 'SU80.01.426', 'SU80.10.409A', 'ЗВТ86.103К-02',\n",
    " 'СВМ.37.060', 'СВМ.37.060А', 'СВП-120.00.060', 'СВП120.42.020', 'СВП120.42.030', 'СК20.01.01.01.406',\n",
    " 'СК20.01.01.02.402', 'СК30.01.01.02.402', 'СК30.01.01.03.403', 'СК50.01.01.404', 'СК50.02.01.411', 'СПО250.14.190']"
   ]
  },
  {
   "cell_type": "code",
   "execution_count": 3,
   "id": "e0c5ae6c",
   "metadata": {},
   "outputs": [
    {
     "data": {
      "text/plain": [
       "['C:\\\\Users\\\\Gliwork\\\\Desktop\\\\0-Rojects\\\\2023 Khabarovsk hackaton\\\\prediction\\\\IMG_20230920_142557.jpg',\n",
       " 'C:\\\\Users\\\\Gliwork\\\\Desktop\\\\0-Rojects\\\\2023 Khabarovsk hackaton\\\\prediction\\\\IMG_20230920_142620.jpg',\n",
       " 'C:\\\\Users\\\\Gliwork\\\\Desktop\\\\0-Rojects\\\\2023 Khabarovsk hackaton\\\\prediction\\\\IMG_20230920_142632.jpg',\n",
       " 'C:\\\\Users\\\\Gliwork\\\\Desktop\\\\0-Rojects\\\\2023 Khabarovsk hackaton\\\\prediction\\\\IMG_20230920_142640.jpg',\n",
       " 'C:\\\\Users\\\\Gliwork\\\\Desktop\\\\0-Rojects\\\\2023 Khabarovsk hackaton\\\\prediction\\\\IMG_20230920_142656.jpg']"
      ]
     },
     "execution_count": 3,
     "metadata": {},
     "output_type": "execute_result"
    }
   ],
   "source": [
    "#estimation files should be copid to the folder 'prediction'\n",
    "path = os.getcwd()\n",
    "prediction_folder = path + '\\\\prediction'\n",
    "folder = prediction_folder + '\\\\*'\n",
    "files = glob(folder, recursive = True)\n",
    "files"
   ]
  },
  {
   "cell_type": "code",
   "execution_count": 4,
   "id": "2f4f3516",
   "metadata": {},
   "outputs": [],
   "source": [
    "#final model name\n",
    "model_name = 'efficientnet_model.keras'\n",
    "model_path = path + '\\\\' + model_name #efficientnet_model.keras\n",
    "model = tf.keras.models.load_model(model_path)"
   ]
  },
  {
   "cell_type": "code",
   "execution_count": 7,
   "id": "b61a8823",
   "metadata": {},
   "outputs": [
    {
     "name": "stdout",
     "output_type": "stream",
     "text": [
      "файл  IMG_20230920_142557.jpg  - артикул:  СВП-120.00.060\n",
      "файл  IMG_20230920_142620.jpg  - артикул:  СВП-120.00.060\n",
      "файл  IMG_20230920_142632.jpg  - артикул:  СВП-120.00.060\n",
      "файл  IMG_20230920_142640.jpg  - артикул:  СВП-120.00.060\n",
      "файл  IMG_20230920_142656.jpg  - артикул:  СВП-120.00.060\n"
     ]
    }
   ],
   "source": [
    "files = glob(folder, recursive = True)\n",
    "output_dict = {}\n",
    "if files!=[]:\n",
    "    for image_path in files:\n",
    "        image = tf.keras.utils.load_img(image_path)\n",
    "        image = tf.image.resize(image, [img_height, img_width])\n",
    "        input_arr = tf.keras.utils.img_to_array(image)\n",
    "        predictions = model.predict(np.array([input_arr]), verbose = 0)\n",
    "        fname = image_path[image_path.rfind('\\\\')+1:]\n",
    "        print('файл ', image_path[image_path.rfind('\\\\')+1:], ' - артикул: ', detail_names_list[np.argmax(predictions)])\n",
    "        output_dict[fname] = detail_names_list[np.argmax(predictions)]\n",
    "else:\n",
    "    print('Проблема: Нет фотографий деталей, проверьте папку \"\\prediction\" ')\n"
   ]
  },
  {
   "cell_type": "code",
   "execution_count": 6,
   "id": "2d72b878",
   "metadata": {},
   "outputs": [],
   "source": [
    "#write predictions into json file \"prediction.json\" in folder where ipynb file is located\n",
    "with open(\"prediction.json\", \"w\") as file:\n",
    "    json.dump(output_dict, file)"
   ]
  },
  {
   "cell_type": "code",
   "execution_count": null,
   "id": "8a5ce7c9",
   "metadata": {},
   "outputs": [],
   "source": []
  },
  {
   "cell_type": "code",
   "execution_count": null,
   "id": "0e7a0103",
   "metadata": {},
   "outputs": [],
   "source": []
  },
  {
   "cell_type": "code",
   "execution_count": null,
   "id": "10066a74",
   "metadata": {},
   "outputs": [],
   "source": []
  },
  {
   "cell_type": "code",
   "execution_count": 4,
   "id": "e6ee4798",
   "metadata": {},
   "outputs": [
    {
     "name": "stdout",
     "output_type": "stream",
     "text": [
      "Number of frames:  -1\n",
      "Converting video..\n",
      "\n"
     ]
    }
   ],
   "source": [
    "#skip this cell if just pictures are loaded for prediction - convert video to jpg files (if necessary) - \n",
    "\n",
    "import cv2\n",
    "import time\n",
    "import os\n",
    "\n",
    "input_loc = '.....' #name of the videofile\n",
    "\n",
    "def video_to_frames(input_loc, output_loc):\n",
    "    \"\"\"Function to extract frames from input video file\n",
    "    and save them as separate frames in an output directory.\n",
    "    Args:\n",
    "        input_loc: Input video file.\n",
    "        output_loc: Output directory to save the frames.\n",
    "    Returns:\n",
    "        None\n",
    "    \"\"\"\n",
    "    try:\n",
    "        os.mkdir(output_loc)\n",
    "    except OSError:\n",
    "        pass\n",
    "    # Log the time\n",
    "    time_start = time.time()\n",
    "    # Start capturing the feed\n",
    "    cap = cv2.VideoCapture(input_loc)\n",
    "    # Find the number of frames\n",
    "    video_length = int(cap.get(cv2.CAP_PROP_FRAME_COUNT)) - 1\n",
    "    print (\"Number of frames: \", video_length)\n",
    "    count = 0\n",
    "    print (\"Converting video..\\n\")\n",
    "    # Start converting the video\n",
    "    while cap.isOpened():\n",
    "        # Extract the frame\n",
    "        ret, frame = cap.read()\n",
    "        if not ret:\n",
    "            continue\n",
    "        # Write the results back to output location.\n",
    "        cv2.imwrite(output_loc + \"/%#05d.jpg\" % (count+1), frame)\n",
    "        count = count + 10\n",
    "        \n",
    "        # If there are no more frames left\n",
    "        if (count > (video_length-1)):\n",
    "            # Log the time again\n",
    "            time_end = time.time()\n",
    "            # Release the feed\n",
    "            cap.release()\n",
    "            # Print stats\n",
    "            print (\"Done extracting frames.\\n%d frames extracted\" % count)\n",
    "            print (\"It took %d seconds for conversion.\" % (time_end-time_start))\n",
    "            break\n",
    "\n",
    "\n",
    "            \n",
    "if __name__==\"__main__\":\n",
    "\n",
    "    input_loc = input_loc\n",
    "    output_loc = prediction_folder\n",
    "    video_to_frames(input_loc, output_loc)"
   ]
  }
 ],
 "metadata": {
  "kernelspec": {
   "display_name": "Python 3 (ipykernel)",
   "language": "python",
   "name": "python3"
  },
  "language_info": {
   "codemirror_mode": {
    "name": "ipython",
    "version": 3
   },
   "file_extension": ".py",
   "mimetype": "text/x-python",
   "name": "python",
   "nbconvert_exporter": "python",
   "pygments_lexer": "ipython3",
   "version": "3.11.0"
  }
 },
 "nbformat": 4,
 "nbformat_minor": 5
}
