{
 "cells": [
  {
   "cell_type": "code",
   "execution_count": 1,
   "id": "fce63281",
   "metadata": {},
   "outputs": [],
   "source": [
    "import numpy as np\n",
    "import os\n",
    "import PIL\n",
    "import PIL.Image\n",
    "import tensorflow as tf\n",
    "import tensorflow.keras.datasets as tfds\n",
    "from tensorflow.keras import datasets, layers, models\n",
    "import matplotlib.pyplot as plt\n",
    "from tensorflow.keras.preprocessing import image\n",
    "\n",
    "from tensorflow.keras.applications.efficientnet_v2 import EfficientNetV2B1\n",
    "from tensorflow.keras.preprocessing import image\n",
    "from tensorflow.keras.models import Model\n",
    "from tensorflow.keras.layers import Dense, GlobalAveragePooling2D"
   ]
  },
  {
   "cell_type": "code",
   "execution_count": 2,
   "id": "7604287b",
   "metadata": {},
   "outputs": [],
   "source": [
    "#Start module from here"
   ]
  },
  {
   "cell_type": "code",
   "execution_count": 3,
   "id": "1f176cbc",
   "metadata": {},
   "outputs": [],
   "source": [
    "#this part is only due to cyrillic characters issue in folder names reading on my mashine\n",
    "detail_names_list = ['CS120.01.413', 'CS120.07.442', 'CS150.01.427-01', 'SU160.00.404', 'SU80.01.426', 'SU80.10.409A', 'ЗВТ86.103К-02',\n",
    " 'СВМ.37.060', 'СВМ.37.060А', 'СВП-120.00.060', 'СВП120.42.020', 'СВП120.42.030', 'СК20.01.01.01.406',\n",
    " 'СК20.01.01.02.402', 'СК30.01.01.02.402', 'СК30.01.01.03.403', 'СК50.01.01.404', 'СК50.02.01.411', 'СПО250.14.190']"
   ]
  },
  {
   "cell_type": "code",
   "execution_count": 23,
   "id": "219429cf",
   "metadata": {},
   "outputs": [
    {
     "data": {
      "text/plain": [
       "['C:\\\\Users\\\\Gliwork\\\\Desktop\\\\0-Rojects\\\\2023 Khabarovsk hackaton\\\\dataset\\\\01',\n",
       " 'C:\\\\Users\\\\Gliwork\\\\Desktop\\\\0-Rojects\\\\2023 Khabarovsk hackaton\\\\dataset\\\\02',\n",
       " 'C:\\\\Users\\\\Gliwork\\\\Desktop\\\\0-Rojects\\\\2023 Khabarovsk hackaton\\\\dataset\\\\03',\n",
       " 'C:\\\\Users\\\\Gliwork\\\\Desktop\\\\0-Rojects\\\\2023 Khabarovsk hackaton\\\\dataset\\\\04',\n",
       " 'C:\\\\Users\\\\Gliwork\\\\Desktop\\\\0-Rojects\\\\2023 Khabarovsk hackaton\\\\dataset\\\\05',\n",
       " 'C:\\\\Users\\\\Gliwork\\\\Desktop\\\\0-Rojects\\\\2023 Khabarovsk hackaton\\\\dataset\\\\06',\n",
       " 'C:\\\\Users\\\\Gliwork\\\\Desktop\\\\0-Rojects\\\\2023 Khabarovsk hackaton\\\\dataset\\\\07',\n",
       " 'C:\\\\Users\\\\Gliwork\\\\Desktop\\\\0-Rojects\\\\2023 Khabarovsk hackaton\\\\dataset\\\\08',\n",
       " 'C:\\\\Users\\\\Gliwork\\\\Desktop\\\\0-Rojects\\\\2023 Khabarovsk hackaton\\\\dataset\\\\09',\n",
       " 'C:\\\\Users\\\\Gliwork\\\\Desktop\\\\0-Rojects\\\\2023 Khabarovsk hackaton\\\\dataset\\\\10',\n",
       " 'C:\\\\Users\\\\Gliwork\\\\Desktop\\\\0-Rojects\\\\2023 Khabarovsk hackaton\\\\dataset\\\\11',\n",
       " 'C:\\\\Users\\\\Gliwork\\\\Desktop\\\\0-Rojects\\\\2023 Khabarovsk hackaton\\\\dataset\\\\12',\n",
       " 'C:\\\\Users\\\\Gliwork\\\\Desktop\\\\0-Rojects\\\\2023 Khabarovsk hackaton\\\\dataset\\\\13',\n",
       " 'C:\\\\Users\\\\Gliwork\\\\Desktop\\\\0-Rojects\\\\2023 Khabarovsk hackaton\\\\dataset\\\\14',\n",
       " 'C:\\\\Users\\\\Gliwork\\\\Desktop\\\\0-Rojects\\\\2023 Khabarovsk hackaton\\\\dataset\\\\15',\n",
       " 'C:\\\\Users\\\\Gliwork\\\\Desktop\\\\0-Rojects\\\\2023 Khabarovsk hackaton\\\\dataset\\\\16',\n",
       " 'C:\\\\Users\\\\Gliwork\\\\Desktop\\\\0-Rojects\\\\2023 Khabarovsk hackaton\\\\dataset\\\\17',\n",
       " 'C:\\\\Users\\\\Gliwork\\\\Desktop\\\\0-Rojects\\\\2023 Khabarovsk hackaton\\\\dataset\\\\18',\n",
       " 'C:\\\\Users\\\\Gliwork\\\\Desktop\\\\0-Rojects\\\\2023 Khabarovsk hackaton\\\\dataset\\\\19']"
      ]
     },
     "execution_count": 23,
     "metadata": {},
     "output_type": "execute_result"
    }
   ],
   "source": [
    "import os\n",
    "path = os.getcwd()\n",
    "data_dir = path +'\\\\dataset'\n",
    "#os.scandir\n",
    "#from glob import glob\n",
    "#glob('C:\\\\Users\\\\Gliwork\\\\Desktop\\\\0-Rojects\\\\2023 Khabarovsk hackaton\\\\dataset\\\\*', recursive = True)"
   ]
  },
  {
   "cell_type": "code",
   "execution_count": 24,
   "id": "c7f14eeb",
   "metadata": {},
   "outputs": [
    {
     "name": "stdout",
     "output_type": "stream",
     "text": [
      "Found 1541 files belonging to 19 classes.\n",
      "Using 1233 files for training.\n"
     ]
    }
   ],
   "source": [
    "batch_size = 32\n",
    "img_height = 300\n",
    "img_width = 300\n",
    "\n",
    "train_ds1 = tf.keras.utils.image_dataset_from_directory(\n",
    "  data_dir,\n",
    "  validation_split=0.2,\n",
    "  subset=\"training\",\n",
    "  seed=123,\n",
    "  image_size=(img_height, img_width),\n",
    "  crop_to_aspect_ratio=True,\n",
    "  batch_size=batch_size)"
   ]
  },
  {
   "cell_type": "code",
   "execution_count": 25,
   "id": "fe35d533",
   "metadata": {},
   "outputs": [
    {
     "name": "stdout",
     "output_type": "stream",
     "text": [
      "Found 1541 files belonging to 19 classes.\n",
      "Using 308 files for validation.\n"
     ]
    }
   ],
   "source": [
    "val_ds1 = tf.keras.utils.image_dataset_from_directory(\n",
    "  data_dir,\n",
    "  validation_split=0.2,\n",
    "  subset=\"validation\",\n",
    "  seed=123,\n",
    "  image_size=(img_height, img_width),\n",
    "  batch_size=batch_size)"
   ]
  },
  {
   "cell_type": "code",
   "execution_count": 27,
   "id": "e81cef09",
   "metadata": {},
   "outputs": [
    {
     "name": "stdout",
     "output_type": "stream",
     "text": [
      "['01', '02', '03', '04', '05', '06', '07', '08', '09', '10', '11', '12', '13', '14', '15', '16', '17', '18', '19']\n"
     ]
    }
   ],
   "source": [
    "class_names = train_ds1.class_names\n",
    "print(class_names)\n"
   ]
  },
  {
   "cell_type": "code",
   "execution_count": 28,
   "id": "6041da65",
   "metadata": {},
   "outputs": [],
   "source": [
    "num_classes = len(class_names)"
   ]
  },
  {
   "cell_type": "code",
   "execution_count": 29,
   "id": "91019927",
   "metadata": {},
   "outputs": [],
   "source": [
    "AUTOTUNE = tf.data.AUTOTUNE\n",
    "\n",
    "train_ds1 = train_ds1.cache().prefetch(buffer_size=AUTOTUNE)\n",
    "val_ds1 = val_ds1.cache().prefetch(buffer_size=AUTOTUNE)"
   ]
  },
  {
   "cell_type": "code",
   "execution_count": 35,
   "id": "16e849e5",
   "metadata": {},
   "outputs": [],
   "source": [
    "early_stop = tf.keras.callbacks.EarlyStopping(\n",
    "    monitor=\"val_loss\",\n",
    "    start_from_epoch=10,\n",
    "    patience=4\n",
    ")\n",
    "model_save = tf.keras.callbacks.ModelCheckpoint(\n",
    "    path,\n",
    "    save_best_only = True,\n",
    ")\n",
    "callbacks = [early_stop,model_save]"
   ]
  },
  {
   "cell_type": "code",
   "execution_count": 36,
   "id": "4273251c",
   "metadata": {},
   "outputs": [
    {
     "name": "stdout",
     "output_type": "stream",
     "text": [
      "Epoch 1/40\n",
      "39/39 [==============================] - ETA: 0s - loss: 1.1715 - accuracy: 0.6521"
     ]
    },
    {
     "name": "stderr",
     "output_type": "stream",
     "text": [
      "WARNING:absl:Found untraced functions such as _jit_compiled_convolution_op, _jit_compiled_convolution_op, _jit_compiled_convolution_op, _jit_compiled_convolution_op, _jit_compiled_convolution_op while saving (showing 5 of 112). These functions will not be directly callable after loading.\n"
     ]
    },
    {
     "name": "stdout",
     "output_type": "stream",
     "text": [
      "INFO:tensorflow:Assets written to: C:\\Users\\Gliwork\\Desktop\\0-Rojects\\2023 Khabarovsk hackaton\\assets\n"
     ]
    },
    {
     "name": "stderr",
     "output_type": "stream",
     "text": [
      "INFO:tensorflow:Assets written to: C:\\Users\\Gliwork\\Desktop\\0-Rojects\\2023 Khabarovsk hackaton\\assets\n"
     ]
    },
    {
     "name": "stdout",
     "output_type": "stream",
     "text": [
      "39/39 [==============================] - 138s 3s/step - loss: 1.1715 - accuracy: 0.6521 - val_loss: 0.6482 - val_accuracy: 0.7760\n",
      "Epoch 2/40\n",
      "39/39 [==============================] - ETA: 0s - loss: 0.3655 - accuracy: 0.8670"
     ]
    },
    {
     "name": "stderr",
     "output_type": "stream",
     "text": [
      "WARNING:absl:Found untraced functions such as _jit_compiled_convolution_op, _jit_compiled_convolution_op, _jit_compiled_convolution_op, _jit_compiled_convolution_op, _jit_compiled_convolution_op while saving (showing 5 of 112). These functions will not be directly callable after loading.\n"
     ]
    },
    {
     "name": "stdout",
     "output_type": "stream",
     "text": [
      "INFO:tensorflow:Assets written to: C:\\Users\\Gliwork\\Desktop\\0-Rojects\\2023 Khabarovsk hackaton\\assets\n"
     ]
    },
    {
     "name": "stderr",
     "output_type": "stream",
     "text": [
      "INFO:tensorflow:Assets written to: C:\\Users\\Gliwork\\Desktop\\0-Rojects\\2023 Khabarovsk hackaton\\assets\n"
     ]
    },
    {
     "name": "stdout",
     "output_type": "stream",
     "text": [
      "39/39 [==============================] - 132s 3s/step - loss: 0.3655 - accuracy: 0.8670 - val_loss: 0.5528 - val_accuracy: 0.8247\n",
      "Epoch 3/40\n",
      "39/39 [==============================] - ETA: 0s - loss: 0.2098 - accuracy: 0.9359"
     ]
    },
    {
     "name": "stderr",
     "output_type": "stream",
     "text": [
      "WARNING:absl:Found untraced functions such as _jit_compiled_convolution_op, _jit_compiled_convolution_op, _jit_compiled_convolution_op, _jit_compiled_convolution_op, _jit_compiled_convolution_op while saving (showing 5 of 112). These functions will not be directly callable after loading.\n"
     ]
    },
    {
     "name": "stdout",
     "output_type": "stream",
     "text": [
      "INFO:tensorflow:Assets written to: C:\\Users\\Gliwork\\Desktop\\0-Rojects\\2023 Khabarovsk hackaton\\assets\n"
     ]
    },
    {
     "name": "stderr",
     "output_type": "stream",
     "text": [
      "INFO:tensorflow:Assets written to: C:\\Users\\Gliwork\\Desktop\\0-Rojects\\2023 Khabarovsk hackaton\\assets\n"
     ]
    },
    {
     "name": "stdout",
     "output_type": "stream",
     "text": [
      "39/39 [==============================] - 130s 3s/step - loss: 0.2098 - accuracy: 0.9359 - val_loss: 0.4077 - val_accuracy: 0.8766\n",
      "Epoch 4/40\n",
      "39/39 [==============================] - ETA: 0s - loss: 0.1549 - accuracy: 0.9530"
     ]
    },
    {
     "name": "stderr",
     "output_type": "stream",
     "text": [
      "WARNING:absl:Found untraced functions such as _jit_compiled_convolution_op, _jit_compiled_convolution_op, _jit_compiled_convolution_op, _jit_compiled_convolution_op, _jit_compiled_convolution_op while saving (showing 5 of 112). These functions will not be directly callable after loading.\n"
     ]
    },
    {
     "name": "stdout",
     "output_type": "stream",
     "text": [
      "INFO:tensorflow:Assets written to: C:\\Users\\Gliwork\\Desktop\\0-Rojects\\2023 Khabarovsk hackaton\\assets\n"
     ]
    },
    {
     "name": "stderr",
     "output_type": "stream",
     "text": [
      "INFO:tensorflow:Assets written to: C:\\Users\\Gliwork\\Desktop\\0-Rojects\\2023 Khabarovsk hackaton\\assets\n"
     ]
    },
    {
     "name": "stdout",
     "output_type": "stream",
     "text": [
      "39/39 [==============================] - 131s 3s/step - loss: 0.1549 - accuracy: 0.9530 - val_loss: 0.3583 - val_accuracy: 0.8961\n",
      "Epoch 5/40\n",
      "39/39 [==============================] - ETA: 0s - loss: 0.1009 - accuracy: 0.9716"
     ]
    },
    {
     "name": "stderr",
     "output_type": "stream",
     "text": [
      "WARNING:absl:Found untraced functions such as _jit_compiled_convolution_op, _jit_compiled_convolution_op, _jit_compiled_convolution_op, _jit_compiled_convolution_op, _jit_compiled_convolution_op while saving (showing 5 of 112). These functions will not be directly callable after loading.\n"
     ]
    },
    {
     "name": "stdout",
     "output_type": "stream",
     "text": [
      "INFO:tensorflow:Assets written to: C:\\Users\\Gliwork\\Desktop\\0-Rojects\\2023 Khabarovsk hackaton\\assets\n"
     ]
    },
    {
     "name": "stderr",
     "output_type": "stream",
     "text": [
      "INFO:tensorflow:Assets written to: C:\\Users\\Gliwork\\Desktop\\0-Rojects\\2023 Khabarovsk hackaton\\assets\n"
     ]
    },
    {
     "name": "stdout",
     "output_type": "stream",
     "text": [
      "39/39 [==============================] - 133s 3s/step - loss: 0.1009 - accuracy: 0.9716 - val_loss: 0.3168 - val_accuracy: 0.8896\n",
      "Epoch 6/40\n",
      "39/39 [==============================] - ETA: 0s - loss: 0.0912 - accuracy: 0.9749"
     ]
    },
    {
     "name": "stderr",
     "output_type": "stream",
     "text": [
      "WARNING:absl:Found untraced functions such as _jit_compiled_convolution_op, _jit_compiled_convolution_op, _jit_compiled_convolution_op, _jit_compiled_convolution_op, _jit_compiled_convolution_op while saving (showing 5 of 112). These functions will not be directly callable after loading.\n"
     ]
    },
    {
     "name": "stdout",
     "output_type": "stream",
     "text": [
      "INFO:tensorflow:Assets written to: C:\\Users\\Gliwork\\Desktop\\0-Rojects\\2023 Khabarovsk hackaton\\assets\n"
     ]
    },
    {
     "name": "stderr",
     "output_type": "stream",
     "text": [
      "INFO:tensorflow:Assets written to: C:\\Users\\Gliwork\\Desktop\\0-Rojects\\2023 Khabarovsk hackaton\\assets\n"
     ]
    },
    {
     "name": "stdout",
     "output_type": "stream",
     "text": [
      "39/39 [==============================] - 130s 3s/step - loss: 0.0912 - accuracy: 0.9749 - val_loss: 0.2909 - val_accuracy: 0.9026\n",
      "Epoch 7/40\n",
      "39/39 [==============================] - 94s 2s/step - loss: 0.0906 - accuracy: 0.9700 - val_loss: 0.3181 - val_accuracy: 0.8831\n",
      "Epoch 8/40\n",
      "39/39 [==============================] - 94s 2s/step - loss: 0.0625 - accuracy: 0.9797 - val_loss: 0.3584 - val_accuracy: 0.8766\n",
      "Epoch 9/40\n",
      "39/39 [==============================] - ETA: 0s - loss: 0.0575 - accuracy: 0.9830"
     ]
    },
    {
     "name": "stderr",
     "output_type": "stream",
     "text": [
      "WARNING:absl:Found untraced functions such as _jit_compiled_convolution_op, _jit_compiled_convolution_op, _jit_compiled_convolution_op, _jit_compiled_convolution_op, _jit_compiled_convolution_op while saving (showing 5 of 112). These functions will not be directly callable after loading.\n"
     ]
    },
    {
     "name": "stdout",
     "output_type": "stream",
     "text": [
      "INFO:tensorflow:Assets written to: C:\\Users\\Gliwork\\Desktop\\0-Rojects\\2023 Khabarovsk hackaton\\assets\n"
     ]
    },
    {
     "name": "stderr",
     "output_type": "stream",
     "text": [
      "INFO:tensorflow:Assets written to: C:\\Users\\Gliwork\\Desktop\\0-Rojects\\2023 Khabarovsk hackaton\\assets\n"
     ]
    },
    {
     "name": "stdout",
     "output_type": "stream",
     "text": [
      "39/39 [==============================] - 137s 4s/step - loss: 0.0575 - accuracy: 0.9830 - val_loss: 0.2573 - val_accuracy: 0.8929\n",
      "Epoch 10/40\n",
      "39/39 [==============================] - 89s 2s/step - loss: 0.0410 - accuracy: 0.9895 - val_loss: 0.3318 - val_accuracy: 0.8896\n",
      "Epoch 11/40\n",
      "39/39 [==============================] - 89s 2s/step - loss: 0.0400 - accuracy: 0.9911 - val_loss: 0.3973 - val_accuracy: 0.8734\n",
      "Epoch 12/40\n",
      "39/39 [==============================] - 90s 2s/step - loss: 0.0472 - accuracy: 0.9854 - val_loss: 0.3256 - val_accuracy: 0.8831\n",
      "Epoch 13/40\n",
      "39/39 [==============================] - 89s 2s/step - loss: 0.0400 - accuracy: 0.9862 - val_loss: 0.3966 - val_accuracy: 0.8864\n",
      "Epoch 14/40\n",
      "39/39 [==============================] - 89s 2s/step - loss: 0.0339 - accuracy: 0.9895 - val_loss: 0.3851 - val_accuracy: 0.8831\n",
      "Epoch 15/40\n",
      "39/39 [==============================] - 89s 2s/step - loss: 0.0370 - accuracy: 0.9878 - val_loss: 0.2655 - val_accuracy: 0.9091\n",
      "Epoch 16/40\n",
      "39/39 [==============================] - 89s 2s/step - loss: 0.0304 - accuracy: 0.9927 - val_loss: 0.4261 - val_accuracy: 0.8896\n",
      "Epoch 17/40\n",
      "39/39 [==============================] - 89s 2s/step - loss: 0.0302 - accuracy: 0.9903 - val_loss: 0.3762 - val_accuracy: 0.8994\n",
      "Epoch 18/40\n",
      "39/39 [==============================] - 89s 2s/step - loss: 0.0330 - accuracy: 0.9903 - val_loss: 0.4696 - val_accuracy: 0.8799\n",
      "Epoch 19/40\n",
      "39/39 [==============================] - 89s 2s/step - loss: 0.0387 - accuracy: 0.9862 - val_loss: 0.4350 - val_accuracy: 0.8896\n",
      "Epoch 1/40\n",
      "39/39 [==============================] - 170s 4s/step - loss: 0.2500 - accuracy: 0.9473 - val_loss: 0.2602 - val_accuracy: 0.8961\n",
      "Epoch 2/40\n",
      "39/39 [==============================] - ETA: 0s - loss: 0.0501 - accuracy: 0.9968"
     ]
    },
    {
     "name": "stderr",
     "output_type": "stream",
     "text": [
      "WARNING:absl:Found untraced functions such as _jit_compiled_convolution_op, _jit_compiled_convolution_op, _jit_compiled_convolution_op, _jit_compiled_convolution_op, _jit_compiled_convolution_op while saving (showing 5 of 112). These functions will not be directly callable after loading.\n"
     ]
    },
    {
     "name": "stdout",
     "output_type": "stream",
     "text": [
      "INFO:tensorflow:Assets written to: C:\\Users\\Gliwork\\Desktop\\0-Rojects\\2023 Khabarovsk hackaton\\assets\n"
     ]
    },
    {
     "name": "stderr",
     "output_type": "stream",
     "text": [
      "INFO:tensorflow:Assets written to: C:\\Users\\Gliwork\\Desktop\\0-Rojects\\2023 Khabarovsk hackaton\\assets\n"
     ]
    },
    {
     "name": "stdout",
     "output_type": "stream",
     "text": [
      "39/39 [==============================] - 195s 5s/step - loss: 0.0501 - accuracy: 0.9968 - val_loss: 0.2461 - val_accuracy: 0.9156\n",
      "Epoch 3/40\n",
      "39/39 [==============================] - ETA: 0s - loss: 0.0240 - accuracy: 1.0000"
     ]
    },
    {
     "name": "stderr",
     "output_type": "stream",
     "text": [
      "WARNING:absl:Found untraced functions such as _jit_compiled_convolution_op, _jit_compiled_convolution_op, _jit_compiled_convolution_op, _jit_compiled_convolution_op, _jit_compiled_convolution_op while saving (showing 5 of 112). These functions will not be directly callable after loading.\n"
     ]
    },
    {
     "name": "stdout",
     "output_type": "stream",
     "text": [
      "INFO:tensorflow:Assets written to: C:\\Users\\Gliwork\\Desktop\\0-Rojects\\2023 Khabarovsk hackaton\\assets\n"
     ]
    },
    {
     "name": "stderr",
     "output_type": "stream",
     "text": [
      "INFO:tensorflow:Assets written to: C:\\Users\\Gliwork\\Desktop\\0-Rojects\\2023 Khabarovsk hackaton\\assets\n"
     ]
    },
    {
     "name": "stdout",
     "output_type": "stream",
     "text": [
      "39/39 [==============================] - 235s 6s/step - loss: 0.0240 - accuracy: 1.0000 - val_loss: 0.2232 - val_accuracy: 0.9221\n",
      "Epoch 4/40\n",
      "39/39 [==============================] - ETA: 0s - loss: 0.0168 - accuracy: 0.9976"
     ]
    },
    {
     "name": "stderr",
     "output_type": "stream",
     "text": [
      "WARNING:absl:Found untraced functions such as _jit_compiled_convolution_op, _jit_compiled_convolution_op, _jit_compiled_convolution_op, _jit_compiled_convolution_op, _jit_compiled_convolution_op while saving (showing 5 of 112). These functions will not be directly callable after loading.\n"
     ]
    },
    {
     "name": "stdout",
     "output_type": "stream",
     "text": [
      "INFO:tensorflow:Assets written to: C:\\Users\\Gliwork\\Desktop\\0-Rojects\\2023 Khabarovsk hackaton\\assets\n"
     ]
    },
    {
     "name": "stderr",
     "output_type": "stream",
     "text": [
      "INFO:tensorflow:Assets written to: C:\\Users\\Gliwork\\Desktop\\0-Rojects\\2023 Khabarovsk hackaton\\assets\n"
     ]
    },
    {
     "name": "stdout",
     "output_type": "stream",
     "text": [
      "39/39 [==============================] - 242s 6s/step - loss: 0.0168 - accuracy: 0.9976 - val_loss: 0.2132 - val_accuracy: 0.9253\n",
      "Epoch 5/40\n",
      "39/39 [==============================] - ETA: 0s - loss: 0.0122 - accuracy: 0.9992"
     ]
    },
    {
     "name": "stderr",
     "output_type": "stream",
     "text": [
      "WARNING:absl:Found untraced functions such as _jit_compiled_convolution_op, _jit_compiled_convolution_op, _jit_compiled_convolution_op, _jit_compiled_convolution_op, _jit_compiled_convolution_op while saving (showing 5 of 112). These functions will not be directly callable after loading.\n"
     ]
    },
    {
     "name": "stdout",
     "output_type": "stream",
     "text": [
      "INFO:tensorflow:Assets written to: C:\\Users\\Gliwork\\Desktop\\0-Rojects\\2023 Khabarovsk hackaton\\assets\n"
     ]
    },
    {
     "name": "stderr",
     "output_type": "stream",
     "text": [
      "INFO:tensorflow:Assets written to: C:\\Users\\Gliwork\\Desktop\\0-Rojects\\2023 Khabarovsk hackaton\\assets\n"
     ]
    },
    {
     "name": "stdout",
     "output_type": "stream",
     "text": [
      "39/39 [==============================] - 236s 6s/step - loss: 0.0122 - accuracy: 0.9992 - val_loss: 0.2122 - val_accuracy: 0.9383\n",
      "Epoch 6/40\n",
      "39/39 [==============================] - ETA: 0s - loss: 0.0073 - accuracy: 1.0000"
     ]
    },
    {
     "name": "stderr",
     "output_type": "stream",
     "text": [
      "WARNING:absl:Found untraced functions such as _jit_compiled_convolution_op, _jit_compiled_convolution_op, _jit_compiled_convolution_op, _jit_compiled_convolution_op, _jit_compiled_convolution_op while saving (showing 5 of 112). These functions will not be directly callable after loading.\n"
     ]
    },
    {
     "name": "stdout",
     "output_type": "stream",
     "text": [
      "INFO:tensorflow:Assets written to: C:\\Users\\Gliwork\\Desktop\\0-Rojects\\2023 Khabarovsk hackaton\\assets\n"
     ]
    },
    {
     "name": "stderr",
     "output_type": "stream",
     "text": [
      "INFO:tensorflow:Assets written to: C:\\Users\\Gliwork\\Desktop\\0-Rojects\\2023 Khabarovsk hackaton\\assets\n"
     ]
    },
    {
     "name": "stdout",
     "output_type": "stream",
     "text": [
      "39/39 [==============================] - 242s 6s/step - loss: 0.0073 - accuracy: 1.0000 - val_loss: 0.2088 - val_accuracy: 0.9351\n",
      "Epoch 7/40\n",
      "39/39 [==============================] - 191s 5s/step - loss: 0.0066 - accuracy: 0.9992 - val_loss: 0.2199 - val_accuracy: 0.9448\n",
      "Epoch 8/40\n",
      "39/39 [==============================] - 191s 5s/step - loss: 0.0055 - accuracy: 0.9992 - val_loss: 0.2199 - val_accuracy: 0.9351\n",
      "Epoch 9/40\n",
      "39/39 [==============================] - 191s 5s/step - loss: 0.0067 - accuracy: 1.0000 - val_loss: 0.2188 - val_accuracy: 0.9383\n",
      "Epoch 10/40\n",
      "39/39 [==============================] - ETA: 0s - loss: 0.0039 - accuracy: 0.9992"
     ]
    },
    {
     "name": "stderr",
     "output_type": "stream",
     "text": [
      "WARNING:absl:Found untraced functions such as _jit_compiled_convolution_op, _jit_compiled_convolution_op, _jit_compiled_convolution_op, _jit_compiled_convolution_op, _jit_compiled_convolution_op while saving (showing 5 of 112). These functions will not be directly callable after loading.\n"
     ]
    },
    {
     "name": "stdout",
     "output_type": "stream",
     "text": [
      "INFO:tensorflow:Assets written to: C:\\Users\\Gliwork\\Desktop\\0-Rojects\\2023 Khabarovsk hackaton\\assets\n"
     ]
    },
    {
     "name": "stderr",
     "output_type": "stream",
     "text": [
      "INFO:tensorflow:Assets written to: C:\\Users\\Gliwork\\Desktop\\0-Rojects\\2023 Khabarovsk hackaton\\assets\n"
     ]
    },
    {
     "name": "stdout",
     "output_type": "stream",
     "text": [
      "39/39 [==============================] - 236s 6s/step - loss: 0.0039 - accuracy: 0.9992 - val_loss: 0.1946 - val_accuracy: 0.9286\n",
      "Epoch 11/40\n",
      "39/39 [==============================] - 195s 5s/step - loss: 0.0047 - accuracy: 0.9992 - val_loss: 0.2165 - val_accuracy: 0.9416\n",
      "Epoch 12/40\n",
      "39/39 [==============================] - 196s 5s/step - loss: 0.0028 - accuracy: 1.0000 - val_loss: 0.2219 - val_accuracy: 0.9318\n",
      "Epoch 13/40\n",
      "39/39 [==============================] - 197s 5s/step - loss: 0.0042 - accuracy: 0.9992 - val_loss: 0.2279 - val_accuracy: 0.9383\n",
      "Epoch 14/40\n",
      "39/39 [==============================] - 197s 5s/step - loss: 0.0018 - accuracy: 1.0000 - val_loss: 0.2175 - val_accuracy: 0.9416\n",
      "Epoch 15/40\n",
      "39/39 [==============================] - 195s 5s/step - loss: 0.0023 - accuracy: 1.0000 - val_loss: 0.2018 - val_accuracy: 0.9448\n",
      "Epoch 16/40\n",
      "39/39 [==============================] - 196s 5s/step - loss: 0.0030 - accuracy: 0.9992 - val_loss: 0.2090 - val_accuracy: 0.9448\n",
      "Epoch 17/40\n",
      "39/39 [==============================] - 194s 5s/step - loss: 0.0016 - accuracy: 1.0000 - val_loss: 0.2157 - val_accuracy: 0.9416\n",
      "Epoch 18/40\n",
      "39/39 [==============================] - 194s 5s/step - loss: 0.0015 - accuracy: 1.0000 - val_loss: 0.2115 - val_accuracy: 0.9416\n",
      "Epoch 19/40\n",
      "39/39 [==============================] - 194s 5s/step - loss: 0.0016 - accuracy: 1.0000 - val_loss: 0.2100 - val_accuracy: 0.9383\n"
     ]
    }
   ],
   "source": [
    "epochs = 40\n",
    "\n",
    "# create the base pre-trained model\n",
    "base_model = EfficientNetV2B1(weights='imagenet', include_top=False, input_shape = (img_height, img_width, 3))\n",
    "\n",
    "# add a global spatial average pooling layer\n",
    "x = base_model.output\n",
    "x = GlobalAveragePooling2D()(x)\n",
    "# let's add a fully-connected layer\n",
    "x = Dense(1024, activation='relu')(x)\n",
    "# and a logistic layer -- let's say we have 200 classes\n",
    "predictions = Dense(num_classes, activation='softmax')(x)\n",
    "\n",
    "# this is the model we will train\n",
    "model = Model(inputs=base_model.input, outputs=predictions)\n",
    "\n",
    "# first: train only the top layers (which were randomly initialized)\n",
    "# i.e. freeze all convolutional InceptionV3 layers\n",
    "for layer in base_model.layers:\n",
    "    layer.trainable = False\n",
    "\n",
    "# compile the model (should be done *after* setting layers to non-trainable)\n",
    "model.compile(optimizer='adam',\n",
    "  loss=tf.keras.losses.SparseCategoricalCrossentropy(),#from_logits=True\n",
    "  metrics=['accuracy'])\n",
    "\n",
    "# train the model on the new data for a few epochs\n",
    "history = model.fit(\n",
    "    train_ds1,\n",
    "    validation_data=val_ds1,\n",
    "    epochs=epochs, callbacks=[callbacks])\n",
    "\n",
    "# at this point, the top layers are well trained and we can start fine-tuning\n",
    "# convolutional layers from inception V3. We will freeze the bottom N layers\n",
    "# and train the remaining top layers.\n",
    "\n",
    "# let's visualize layer names and layer indices to see how many layers\n",
    "# we should freeze:\n",
    "#for i, layer in enumerate(base_model.layers):\n",
    "#   print(i, layer.name)\n",
    "\n",
    "# we chose to train the top 2 inception blocks, i.e. we will freeze\n",
    "# the first 249 layers and unfreeze the rest:\n",
    "for layer in model.layers[:198]:\n",
    "   layer.trainable = False\n",
    "for layer in model.layers[198:]:\n",
    "   layer.trainable = True\n",
    "\n",
    "# we need to recompile the model for these modifications to take effect\n",
    "# we use SGD with a low learning rate\n",
    "from tensorflow.keras.optimizers import Adam\n",
    "model.compile(optimizer=tf.keras.optimizers.Adam(\n",
    "    learning_rate=0.0001,\n",
    "    ema_momentum=0.95),\n",
    "    #SGD(learning_rate=0.0001, momentum=0.9), \n",
    "    loss=tf.keras.losses.SparseCategoricalCrossentropy(),#from_logits=True\n",
    "    metrics=['accuracy'])\n",
    "\n",
    "# we train our model again (this time fine-tuning the top 2 inception blocks\n",
    "# alongside the top Dense layers\n",
    "history1 = model.fit(\n",
    "    train_ds1,\n",
    "    validation_data=val_ds1,\n",
    "    epochs=epochs, callbacks=[callbacks])"
   ]
  },
  {
   "cell_type": "code",
   "execution_count": 37,
   "id": "805793e6",
   "metadata": {},
   "outputs": [
    {
     "ename": "ValueError",
     "evalue": "x and y must have same first dimension, but have shapes (40,) and (19,)",
     "output_type": "error",
     "traceback": [
      "\u001b[1;31m---------------------------------------------------------------------------\u001b[0m",
      "\u001b[1;31mValueError\u001b[0m                                Traceback (most recent call last)",
      "Cell \u001b[1;32mIn[37], line 11\u001b[0m\n\u001b[0;32m      9\u001b[0m plt\u001b[38;5;241m.\u001b[39mfigure(figsize\u001b[38;5;241m=\u001b[39m(\u001b[38;5;241m8\u001b[39m, \u001b[38;5;241m8\u001b[39m))\n\u001b[0;32m     10\u001b[0m plt\u001b[38;5;241m.\u001b[39msubplot(\u001b[38;5;241m1\u001b[39m, \u001b[38;5;241m2\u001b[39m, \u001b[38;5;241m1\u001b[39m)\n\u001b[1;32m---> 11\u001b[0m \u001b[43mplt\u001b[49m\u001b[38;5;241;43m.\u001b[39;49m\u001b[43mplot\u001b[49m\u001b[43m(\u001b[49m\u001b[43mepochs_range\u001b[49m\u001b[43m,\u001b[49m\u001b[43m \u001b[49m\u001b[43macc\u001b[49m\u001b[43m,\u001b[49m\u001b[43m \u001b[49m\u001b[43mlabel\u001b[49m\u001b[38;5;241;43m=\u001b[39;49m\u001b[38;5;124;43m'\u001b[39;49m\u001b[38;5;124;43mTraining Accuracy\u001b[39;49m\u001b[38;5;124;43m'\u001b[39;49m\u001b[43m)\u001b[49m\n\u001b[0;32m     12\u001b[0m plt\u001b[38;5;241m.\u001b[39mplot(epochs_range, val_acc, label\u001b[38;5;241m=\u001b[39m\u001b[38;5;124m'\u001b[39m\u001b[38;5;124mValidation Accuracy\u001b[39m\u001b[38;5;124m'\u001b[39m)\n\u001b[0;32m     13\u001b[0m plt\u001b[38;5;241m.\u001b[39mlegend(loc\u001b[38;5;241m=\u001b[39m\u001b[38;5;124m'\u001b[39m\u001b[38;5;124mlower right\u001b[39m\u001b[38;5;124m'\u001b[39m)\n",
      "File \u001b[1;32m~\\miniconda3\\envs\\tf-cpu\\Lib\\site-packages\\matplotlib\\pyplot.py:2812\u001b[0m, in \u001b[0;36mplot\u001b[1;34m(scalex, scaley, data, *args, **kwargs)\u001b[0m\n\u001b[0;32m   2810\u001b[0m \u001b[38;5;129m@_copy_docstring_and_deprecators\u001b[39m(Axes\u001b[38;5;241m.\u001b[39mplot)\n\u001b[0;32m   2811\u001b[0m \u001b[38;5;28;01mdef\u001b[39;00m \u001b[38;5;21mplot\u001b[39m(\u001b[38;5;241m*\u001b[39margs, scalex\u001b[38;5;241m=\u001b[39m\u001b[38;5;28;01mTrue\u001b[39;00m, scaley\u001b[38;5;241m=\u001b[39m\u001b[38;5;28;01mTrue\u001b[39;00m, data\u001b[38;5;241m=\u001b[39m\u001b[38;5;28;01mNone\u001b[39;00m, \u001b[38;5;241m*\u001b[39m\u001b[38;5;241m*\u001b[39mkwargs):\n\u001b[1;32m-> 2812\u001b[0m     \u001b[38;5;28;01mreturn\u001b[39;00m \u001b[43mgca\u001b[49m\u001b[43m(\u001b[49m\u001b[43m)\u001b[49m\u001b[38;5;241;43m.\u001b[39;49m\u001b[43mplot\u001b[49m\u001b[43m(\u001b[49m\n\u001b[0;32m   2813\u001b[0m \u001b[43m        \u001b[49m\u001b[38;5;241;43m*\u001b[39;49m\u001b[43margs\u001b[49m\u001b[43m,\u001b[49m\u001b[43m \u001b[49m\u001b[43mscalex\u001b[49m\u001b[38;5;241;43m=\u001b[39;49m\u001b[43mscalex\u001b[49m\u001b[43m,\u001b[49m\u001b[43m \u001b[49m\u001b[43mscaley\u001b[49m\u001b[38;5;241;43m=\u001b[39;49m\u001b[43mscaley\u001b[49m\u001b[43m,\u001b[49m\n\u001b[0;32m   2814\u001b[0m \u001b[43m        \u001b[49m\u001b[38;5;241;43m*\u001b[39;49m\u001b[38;5;241;43m*\u001b[39;49m\u001b[43m(\u001b[49m\u001b[43m{\u001b[49m\u001b[38;5;124;43m\"\u001b[39;49m\u001b[38;5;124;43mdata\u001b[39;49m\u001b[38;5;124;43m\"\u001b[39;49m\u001b[43m:\u001b[49m\u001b[43m \u001b[49m\u001b[43mdata\u001b[49m\u001b[43m}\u001b[49m\u001b[43m \u001b[49m\u001b[38;5;28;43;01mif\u001b[39;49;00m\u001b[43m \u001b[49m\u001b[43mdata\u001b[49m\u001b[43m \u001b[49m\u001b[38;5;129;43;01mis\u001b[39;49;00m\u001b[43m \u001b[49m\u001b[38;5;129;43;01mnot\u001b[39;49;00m\u001b[43m \u001b[49m\u001b[38;5;28;43;01mNone\u001b[39;49;00m\u001b[43m \u001b[49m\u001b[38;5;28;43;01melse\u001b[39;49;00m\u001b[43m \u001b[49m\u001b[43m{\u001b[49m\u001b[43m}\u001b[49m\u001b[43m)\u001b[49m\u001b[43m,\u001b[49m\u001b[43m \u001b[49m\u001b[38;5;241;43m*\u001b[39;49m\u001b[38;5;241;43m*\u001b[39;49m\u001b[43mkwargs\u001b[49m\u001b[43m)\u001b[49m\n",
      "File \u001b[1;32m~\\miniconda3\\envs\\tf-cpu\\Lib\\site-packages\\matplotlib\\axes\\_axes.py:1688\u001b[0m, in \u001b[0;36mAxes.plot\u001b[1;34m(self, scalex, scaley, data, *args, **kwargs)\u001b[0m\n\u001b[0;32m   1445\u001b[0m \u001b[38;5;250m\u001b[39m\u001b[38;5;124;03m\"\"\"\u001b[39;00m\n\u001b[0;32m   1446\u001b[0m \u001b[38;5;124;03mPlot y versus x as lines and/or markers.\u001b[39;00m\n\u001b[0;32m   1447\u001b[0m \n\u001b[1;32m   (...)\u001b[0m\n\u001b[0;32m   1685\u001b[0m \u001b[38;5;124;03m(``'green'``) or hex strings (``'#008000'``).\u001b[39;00m\n\u001b[0;32m   1686\u001b[0m \u001b[38;5;124;03m\"\"\"\u001b[39;00m\n\u001b[0;32m   1687\u001b[0m kwargs \u001b[38;5;241m=\u001b[39m cbook\u001b[38;5;241m.\u001b[39mnormalize_kwargs(kwargs, mlines\u001b[38;5;241m.\u001b[39mLine2D)\n\u001b[1;32m-> 1688\u001b[0m lines \u001b[38;5;241m=\u001b[39m [\u001b[38;5;241m*\u001b[39m\u001b[38;5;28mself\u001b[39m\u001b[38;5;241m.\u001b[39m_get_lines(\u001b[38;5;241m*\u001b[39margs, data\u001b[38;5;241m=\u001b[39mdata, \u001b[38;5;241m*\u001b[39m\u001b[38;5;241m*\u001b[39mkwargs)]\n\u001b[0;32m   1689\u001b[0m \u001b[38;5;28;01mfor\u001b[39;00m line \u001b[38;5;129;01min\u001b[39;00m lines:\n\u001b[0;32m   1690\u001b[0m     \u001b[38;5;28mself\u001b[39m\u001b[38;5;241m.\u001b[39madd_line(line)\n",
      "File \u001b[1;32m~\\miniconda3\\envs\\tf-cpu\\Lib\\site-packages\\matplotlib\\axes\\_base.py:311\u001b[0m, in \u001b[0;36m_process_plot_var_args.__call__\u001b[1;34m(self, data, *args, **kwargs)\u001b[0m\n\u001b[0;32m    309\u001b[0m     this \u001b[38;5;241m+\u001b[39m\u001b[38;5;241m=\u001b[39m args[\u001b[38;5;241m0\u001b[39m],\n\u001b[0;32m    310\u001b[0m     args \u001b[38;5;241m=\u001b[39m args[\u001b[38;5;241m1\u001b[39m:]\n\u001b[1;32m--> 311\u001b[0m \u001b[38;5;28;01myield from\u001b[39;00m \u001b[38;5;28;43mself\u001b[39;49m\u001b[38;5;241;43m.\u001b[39;49m\u001b[43m_plot_args\u001b[49m\u001b[43m(\u001b[49m\n\u001b[0;32m    312\u001b[0m \u001b[43m    \u001b[49m\u001b[43mthis\u001b[49m\u001b[43m,\u001b[49m\u001b[43m \u001b[49m\u001b[43mkwargs\u001b[49m\u001b[43m,\u001b[49m\u001b[43m \u001b[49m\u001b[43mambiguous_fmt_datakey\u001b[49m\u001b[38;5;241;43m=\u001b[39;49m\u001b[43mambiguous_fmt_datakey\u001b[49m\u001b[43m)\u001b[49m\n",
      "File \u001b[1;32m~\\miniconda3\\envs\\tf-cpu\\Lib\\site-packages\\matplotlib\\axes\\_base.py:504\u001b[0m, in \u001b[0;36m_process_plot_var_args._plot_args\u001b[1;34m(self, tup, kwargs, return_kwargs, ambiguous_fmt_datakey)\u001b[0m\n\u001b[0;32m    501\u001b[0m     \u001b[38;5;28mself\u001b[39m\u001b[38;5;241m.\u001b[39maxes\u001b[38;5;241m.\u001b[39myaxis\u001b[38;5;241m.\u001b[39mupdate_units(y)\n\u001b[0;32m    503\u001b[0m \u001b[38;5;28;01mif\u001b[39;00m x\u001b[38;5;241m.\u001b[39mshape[\u001b[38;5;241m0\u001b[39m] \u001b[38;5;241m!=\u001b[39m y\u001b[38;5;241m.\u001b[39mshape[\u001b[38;5;241m0\u001b[39m]:\n\u001b[1;32m--> 504\u001b[0m     \u001b[38;5;28;01mraise\u001b[39;00m \u001b[38;5;167;01mValueError\u001b[39;00m(\u001b[38;5;124mf\u001b[39m\u001b[38;5;124m\"\u001b[39m\u001b[38;5;124mx and y must have same first dimension, but \u001b[39m\u001b[38;5;124m\"\u001b[39m\n\u001b[0;32m    505\u001b[0m                      \u001b[38;5;124mf\u001b[39m\u001b[38;5;124m\"\u001b[39m\u001b[38;5;124mhave shapes \u001b[39m\u001b[38;5;132;01m{\u001b[39;00mx\u001b[38;5;241m.\u001b[39mshape\u001b[38;5;132;01m}\u001b[39;00m\u001b[38;5;124m and \u001b[39m\u001b[38;5;132;01m{\u001b[39;00my\u001b[38;5;241m.\u001b[39mshape\u001b[38;5;132;01m}\u001b[39;00m\u001b[38;5;124m\"\u001b[39m)\n\u001b[0;32m    506\u001b[0m \u001b[38;5;28;01mif\u001b[39;00m x\u001b[38;5;241m.\u001b[39mndim \u001b[38;5;241m>\u001b[39m \u001b[38;5;241m2\u001b[39m \u001b[38;5;129;01mor\u001b[39;00m y\u001b[38;5;241m.\u001b[39mndim \u001b[38;5;241m>\u001b[39m \u001b[38;5;241m2\u001b[39m:\n\u001b[0;32m    507\u001b[0m     \u001b[38;5;28;01mraise\u001b[39;00m \u001b[38;5;167;01mValueError\u001b[39;00m(\u001b[38;5;124mf\u001b[39m\u001b[38;5;124m\"\u001b[39m\u001b[38;5;124mx and y can be no greater than 2D, but have \u001b[39m\u001b[38;5;124m\"\u001b[39m\n\u001b[0;32m    508\u001b[0m                      \u001b[38;5;124mf\u001b[39m\u001b[38;5;124m\"\u001b[39m\u001b[38;5;124mshapes \u001b[39m\u001b[38;5;132;01m{\u001b[39;00mx\u001b[38;5;241m.\u001b[39mshape\u001b[38;5;132;01m}\u001b[39;00m\u001b[38;5;124m and \u001b[39m\u001b[38;5;132;01m{\u001b[39;00my\u001b[38;5;241m.\u001b[39mshape\u001b[38;5;132;01m}\u001b[39;00m\u001b[38;5;124m\"\u001b[39m)\n",
      "\u001b[1;31mValueError\u001b[0m: x and y must have same first dimension, but have shapes (40,) and (19,)"
     ]
    },
    {
     "data": {
      "image/png": "[encoded data removed]",
      "text/plain": [
       "<Figure size 800x800 with 1 Axes>"
      ]
     },
     "metadata": {},
     "output_type": "display_data"
    }
   ],
   "source": [
    "acc = history.history['accuracy']\n",
    "val_acc = history.history['val_accuracy']\n",
    "\n",
    "loss = history.history['loss']\n",
    "val_loss = history.history['val_loss']\n",
    "\n",
    "epochs_range = range(epochs)\n",
    "\n",
    "plt.figure(figsize=(8, 8))\n",
    "plt.subplot(1, 2, 1)\n",
    "plt.plot(epochs_range, acc, label='Training Accuracy')\n",
    "plt.plot(epochs_range, val_acc, label='Validation Accuracy')\n",
    "plt.legend(loc='lower right')\n",
    "plt.title('Training and Validation Accuracy')\n",
    "\n",
    "plt.subplot(1, 2, 2)\n",
    "plt.plot(epochs_range, loss, label='Training Loss')\n",
    "plt.plot(epochs_range, val_loss, label='Validation Loss')\n",
    "plt.legend(loc='upper right')\n",
    "plt.title('Training and Validation Loss')\n",
    "plt.show()"
   ]
  },
  {
   "cell_type": "code",
   "execution_count": null,
   "id": "a1112a80",
   "metadata": {},
   "outputs": [],
   "source": [
    "acc = history1.history['accuracy']\n",
    "val_acc = history.history['val_accuracy']\n",
    "\n",
    "loss = history.history['loss']\n",
    "val_loss = history.history['val_loss']\n",
    "\n",
    "epochs_range = range(epochs)\n",
    "\n",
    "plt.figure(figsize=(8, 8))\n",
    "plt.subplot(1, 2, 1)\n",
    "plt.plot(epochs_range, acc, label='Training Accuracy')\n",
    "plt.plot(epochs_range, val_acc, label='Validation Accuracy')\n",
    "plt.legend(loc='lower right')\n",
    "plt.title('Training and Validation Accuracy')\n",
    "\n",
    "plt.subplot(1, 2, 2)\n",
    "plt.plot(epochs_range, loss, label='Training Loss')\n",
    "plt.plot(epochs_range, val_loss, label='Validation Loss')\n",
    "plt.legend(loc='upper right')\n",
    "plt.title('Training and Validation Loss')\n",
    "plt.show()"
   ]
  },
  {
   "cell_type": "code",
   "execution_count": 38,
   "id": "59c6b9c9",
   "metadata": {},
   "outputs": [],
   "source": [
    "#model.save('C:\\\\Users\\\\Gliwork\\\\Desktop\\\\0-Rojects\\\\2023 Khabarovsk hackaton\\\\efficientnet_model.keras')\n",
    "model.save(path+'\\\\efficientnet_40_epochs_model.keras')"
   ]
  },
  {
   "cell_type": "code",
   "execution_count": 39,
   "id": "0847f1f7",
   "metadata": {},
   "outputs": [],
   "source": [
    "#path = os.getcwd()\n",
    "prediction_folder = path + '\\\\prediction'\n",
    "folder = prediction_folder + '\\\\*'\n",
    "#os.scandir\n",
    "#from glob import glob\n",
    "files = glob(folder, recursive = True)\n",
    "#folder"
   ]
  },
  {
   "cell_type": "code",
   "execution_count": 40,
   "id": "b15cbb34",
   "metadata": {},
   "outputs": [
    {
     "name": "stdout",
     "output_type": "stream",
     "text": [
      "1/1 [==============================] - 2s 2s/step\n",
      "IMG_20230920_142557.jpg  -  9 ( СВП-120.00.060 )\n",
      "1/1 [==============================] - 0s 152ms/step\n",
      "IMG_20230920_142620.jpg  -  9 ( СВП-120.00.060 )\n",
      "1/1 [==============================] - 0s 168ms/step\n",
      "IMG_20230920_142632.jpg  -  9 ( СВП-120.00.060 )\n",
      "1/1 [==============================] - 0s 154ms/step\n",
      "IMG_20230920_142640.jpg  -  9 ( СВП-120.00.060 )\n",
      "1/1 [==============================] - 0s 138ms/step\n",
      "IMG_20230920_142656.jpg  -  9 ( СВП-120.00.060 )\n"
     ]
    }
   ],
   "source": [
    "files = glob(folder, recursive = True)\n",
    "for image_path in files:\n",
    "    image = tf.keras.utils.load_img(image_path)\n",
    "    image = tf.image.resize(image, [img_height, img_width])\n",
    "    input_arr = tf.keras.utils.img_to_array(image)\n",
    "    predictions = model.predict(np.array([input_arr]))#(normalized_input_arr)\n",
    "    print(image_path[image_path.rfind('\\\\')+1:], ' - ',np.argmax(predictions), '(',detail_names_list[np.argmax(predictions)],')')"
   ]
  },
  {
   "cell_type": "code",
   "execution_count": null,
   "id": "2ca3037e",
   "metadata": {},
   "outputs": [],
   "source": []
  },
  {
   "cell_type": "code",
   "execution_count": null,
   "id": "f0c638ff",
   "metadata": {},
   "outputs": [],
   "source": []
  }
 ],
 "metadata": {
  "kernelspec": {
   "display_name": "Python 3 (ipykernel)",
   "language": "python",
   "name": "python3"
  },
  "language_info": {
   "codemirror_mode": {
    "name": "ipython",
    "version": 3
   },
   "file_extension": ".py",
   "mimetype": "text/x-python",
   "name": "python",
   "nbconvert_exporter": "python",
   "pygments_lexer": "ipython3",
   "version": "3.11.0"
  }
 },
 "nbformat": 4,
 "nbformat_minor": 5
}
