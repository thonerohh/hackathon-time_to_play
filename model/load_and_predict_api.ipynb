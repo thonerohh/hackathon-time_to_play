{
 "cells": [
  {
   "cell_type": "code",
   "execution_count": null,
   "id": "f6559924",
   "metadata": {},
   "outputs": [],
   "source": [
    "import numpy as np\n",
    "import os\n",
    "import PIL\n",
    "import PIL.Image\n",
    "import tensorflow as tf\n",
    "import tensorflow.keras.datasets as tfds\n",
    "from tensorflow.keras import datasets, layers, models\n",
    "import matplotlib.pyplot as plt\n",
    "from tensorflow.keras.preprocessing import image\n",
    "from tensorflow.keras.applications.efficientnet_v2 import EfficientNetV2B1\n",
    "from tensorflow.keras.preprocessing import image\n",
    "from tensorflow.keras.models import Model\n",
    "from tensorflow.keras.layers import Dense, GlobalAveragePooling2D\n",
    "from glob import glob\n",
    "import json"
   ]
  },
  {
   "cell_type": "code",
   "execution_count": null,
   "id": "3c71711b",
   "metadata": {},
   "outputs": [],
   "source": [
    "path = os.getcwd()\n",
    "prediction_folder = path + '\\\\predictions'\n",
    "folder = prediction_folder + '\\\\*'\n",
    "files = glob(folder, recursive = True)\n",
    "files"
   ]
  },
  {
   "cell_type": "code",
   "execution_count": null,
   "id": "87a5fc37",
   "metadata": {},
   "outputs": [],
   "source": [
    "model_path = path + '\\\\efficientnet_40_epochs_model_1695511476.keras'#efficientnet_model.kerasefficientnet_40_epochs_model.keras\n",
    "model = tf.keras.models.load_model(model_path)"
   ]
  },
  {
   "cell_type": "code",
   "execution_count": null,
   "id": "afe78bdf",
   "metadata": {},
   "outputs": [],
   "source": [
    "model"
   ]
  },
  {
   "cell_type": "code",
   "execution_count": null,
   "id": "6ee0541e",
   "metadata": {},
   "outputs": [],
   "source": [
    "img_height = 300\n",
    "img_width = 300\n",
    "detail_names_list = ['CS120.01.413', 'CS120.07.442', 'CS150.01.427-01', 'SU160.00.404', 'SU80.01.426', 'SU80.10.409A', 'ЗВТ86.103К-02',\n",
    " 'СВМ.37.060', 'СВМ.37.060А', 'СВП-120.00.060', 'СВП120.42.020', 'СВП120.42.030', 'СК20.01.01.01.406',\n",
    " 'СК20.01.01.02.402', 'СК30.01.01.02.402', 'СК30.01.01.03.403', 'СК50.01.01.404', 'СК50.02.01.411', 'СПО250.14.190']"
   ]
  },
  {
   "cell_type": "code",
   "execution_count": null,
   "id": "10ed127b",
   "metadata": {},
   "outputs": [],
   "source": [
    "files = glob(folder, recursive = True)\n",
    "output_dict = {}\n",
    "if files!=[]:\n",
    "    for image_path in files:\n",
    "        image = tf.keras.utils.load_img(image_path)\n",
    "        image = tf.image.resize(image, [img_height, img_width])\n",
    "        input_arr = tf.keras.utils.img_to_array(image)\n",
    "        predictions = model.predict(np.array([input_arr]))#(normalized_input_arr)\n",
    "        fname = image_path[image_path.rfind('\\\\')+1:]\n",
    "        # print('Файл ', image_path[image_path.rfind('\\\\')+1:], ' - Артикул: ', detail_names_list[np.argmax(predictions)])\n",
    "        output_dict[fname] = detail_names_list[np.argmax(predictions)]\n",
    "else:\n",
    "    print('Проблема: Нет фотографий деталей, проверьте папку \"\\predictions\" ')\n"
   ]
  },
  {
   "cell_type": "code",
   "execution_count": null,
   "id": "08d72047",
   "metadata": {},
   "outputs": [],
   "source": [
    "print (json.dumps(output_dict, indent=4, ensure_ascii=False))"
   ]
  },
  {
   "cell_type": "code",
   "execution_count": null,
   "id": "c6c5cbf1",
   "metadata": {},
   "outputs": [],
   "source": []
  }
 ],
 "metadata": {
  "kernelspec": {
   "display_name": "Python 3 (ipykernel)",
   "language": "python",
   "name": "python3"
  },
  "language_info": {
   "codemirror_mode": {
    "name": "ipython",
    "version": 3
   },
   "file_extension": ".py",
   "mimetype": "text/x-python",
   "name": "python",
   "nbconvert_exporter": "python",
   "pygments_lexer": "ipython3",
   "version": "3.11.5"
  }
 },
 "nbformat": 4,
 "nbformat_minor": 5
}
